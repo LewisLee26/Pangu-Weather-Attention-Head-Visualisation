{
 "cells": [
  {
   "cell_type": "code",
   "execution_count": 71,
   "metadata": {},
   "outputs": [],
   "source": [
    "import os\n",
    "import numpy as np\n",
    "import matplotlib.pyplot as plt\n",
    "import torch\n",
    "import torch.nn.functional as F\n"
   ]
  },
  {
   "cell_type": "code",
   "execution_count": 72,
   "metadata": {},
   "outputs": [],
   "source": [
    "# Data directories and paths\n",
    "input_data_dir = 'input_data'\n",
    "output_data_dir = 'output_data'\n",
    "data_date = \"2018-01-01\"\n",
    "data_time = \"12:00\"\n",
    "input_name = \"input_surface\""
   ]
  },
  {
   "cell_type": "code",
   "execution_count": 73,
   "metadata": {},
   "outputs": [],
   "source": [
    "layer_name = \"/b1/Add_7_output_0\"\n",
    "head = 5"
   ]
  },
  {
   "cell_type": "code",
   "execution_count": 74,
   "metadata": {},
   "outputs": [],
   "source": [
    "# Load input data\n",
    "input_path = os.path.join('..', input_data_dir, data_date, data_time, f\"{input_name.replace('/', '_')}.npy\")\n",
    "input_data = np.load(input_path)  \n",
    "input_data = input_data[3]  "
   ]
  },
  {
   "cell_type": "code",
   "execution_count": 75,
   "metadata": {},
   "outputs": [],
   "source": [
    "# Set up longitudes and latitudes\n",
    "lons = np.linspace(0, 360, 1440)\n",
    "lons_shifted = np.where(lons > 180, lons - 360, lons)\n",
    "lats = np.linspace(90, -90, 721)"
   ]
  },
  {
   "cell_type": "code",
   "execution_count": 76,
   "metadata": {},
   "outputs": [],
   "source": [
    "path = os.path.join('..', input_data_dir, data_date, data_time, f\"{input_name.replace('/', '_')}.npy\")\n",
    "input_surface = np.load(path)"
   ]
  },
  {
   "cell_type": "code",
   "execution_count": 77,
   "metadata": {},
   "outputs": [],
   "source": [
    "patch_size_lat = 4\n",
    "patch_size_lon = 4\n",
    "\n",
    "chunk_size_lat = 48\n",
    "chunk_size_lon = 96\n",
    "\n",
    "lat_index = 3\n",
    "lon_index = 14\n",
    "\n",
    "lat_start = lat_index * chunk_size_lat\n",
    "lat_end = lat_start + chunk_size_lat\n",
    "lon_start = lon_index * chunk_size_lon\n",
    "lon_end = lon_start + chunk_size_lon\n",
    "\n",
    "lat_end = min(lat_end, input_surface.shape[1])\n",
    "lon_end = min(lon_end, input_surface.shape[2])"
   ]
  },
  {
   "cell_type": "code",
   "execution_count": 78,
   "metadata": {},
   "outputs": [],
   "source": [
    "surface_var_idx = {\n",
    "    \"MSLP\": 0,\n",
    "    \"U10\": 1,\n",
    "    \"V10\": 2,\n",
    "    \"T2M\": 3,\n",
    "}\n",
    "\n",
    "weather_var = \"T2M\""
   ]
  },
  {
   "cell_type": "code",
   "execution_count": 79,
   "metadata": {},
   "outputs": [],
   "source": [
    "path = os.path.join('..', output_data_dir, data_date, data_time, f\"{layer_name.replace('/', '_')}.npy\")\n",
    "attention_output = np.load(path)"
   ]
  },
  {
   "cell_type": "code",
   "execution_count": null,
   "metadata": {},
   "outputs": [
    {
     "name": "stdout",
     "output_type": "stream",
     "text": [
      "torch.Size([1, 1, 180, 360])\n",
      "torch.Size([1, 1, 12, 24])\n",
      "torch.Size([1, 1, 12, 24])\n",
      "torch.Size([1, 1, 12, 24])\n",
      "torch.Size([1, 1, 12, 24])\n"
     ]
    }
   ],
   "source": [
    "lat_start_idx = 0 \n",
    "lat_end_idx = 2\n",
    "lon_start_idx = 0 \n",
    "lon_end_idx = 2\n",
    "\n",
    "tensor = torch.tensor(\n",
    "    input_surface[surface_var_idx[weather_var]],\n",
    "    dtype=torch.float32\n",
    ").unsqueeze(0).unsqueeze(0)\n",
    "kernel = torch.ones((1, 1, 4, 4))\n",
    "result = F.conv2d(tensor, kernel, stride=4)\n",
    "\n",
    "for lat_idx in range(lat_start_idx, lat_end_idx):\n",
    "    for lon_idx in range(lon_start_idx, lon_end_idx):\n",
    "        attention_filtered = attention_output[lon_index, lat_index, head, :, :]\n",
    "        chunk_data = torch.tensor(\n",
    "            input_surface[surface_var_idx[weather_var], lat_start:lat_end, lon_start:lon_end],\n",
    "            dtype=torch.float32\n",
    "        ).unsqueeze(0).unsqueeze(0)\n",
    "        kernel = torch.ones((1, 1, 4, 4))\n",
    "        result = F.conv2d(chunk_data, kernel, stride=4)\n",
    "        print(result.shape)\n",
    "        total_value_kernel = result.squeeze().numpy()\n",
    "\n"
   ]
  }
 ],
 "metadata": {
  "kernelspec": {
   "display_name": "pangu-weather",
   "language": "python",
   "name": "python3"
  },
  "language_info": {
   "codemirror_mode": {
    "name": "ipython",
    "version": 3
   },
   "file_extension": ".py",
   "mimetype": "text/x-python",
   "name": "python",
   "nbconvert_exporter": "python",
   "pygments_lexer": "ipython3",
   "version": "3.12.5"
  }
 },
 "nbformat": 4,
 "nbformat_minor": 2
}
